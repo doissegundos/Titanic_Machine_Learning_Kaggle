{
  "nbformat": 4,
  "nbformat_minor": 0,
  "metadata": {
    "colab": {
      "name": "titanic.ipynb",
      "provenance": [],
      "authorship_tag": "ABX9TyMmmXBCoe8o7m2UDNYq5lAm",
      "include_colab_link": true
    },
    "kernelspec": {
      "name": "python3",
      "display_name": "Python 3"
    },
    "language_info": {
      "name": "python"
    }
  },
  "cells": [
    {
      "cell_type": "markdown",
      "metadata": {
        "id": "view-in-github",
        "colab_type": "text"
      },
      "source": [
        "<a href=\"https://colab.research.google.com/github/doissegundos/Titanic_Machine_Learning_Kaggle/blob/main/titanic.ipynb\" target=\"_parent\"><img src=\"https://colab.research.google.com/assets/colab-badge.svg\" alt=\"Open In Colab\"/></a>"
      ]
    },
    {
      "cell_type": "markdown",
      "metadata": {
        "id": "iFFtwJtmiOfH"
      },
      "source": [
        "#Titanic - Machine Learning from Disaster\n",
        "Link do dataset: https://www.kaggle.com/c/titanic/overview\n"
      ]
    },
    {
      "cell_type": "markdown",
      "metadata": {
        "id": "jSfGqahFiXGm"
      },
      "source": [
        "### Leitura dos dados"
      ]
    },
    {
      "cell_type": "code",
      "metadata": {
        "id": "cawlKAQUiaEh"
      },
      "source": [
        "import numpy as np\n",
        "import os\n",
        "import matplotlib.pyplot as plt\n",
        "import csv\n",
        "import pandas as pd\n",
        "import matplotlib.pyplot as plt\n",
        "import seaborn as sns\n",
        "import plotly.graph_objects as go\n",
        "import plotly.express as px\n",
        "import sys\n",
        "from sklearn.model_selection import train_test_split\n",
        "from sklearn.neighbors import KNeighborsClassifier\n",
        "from sklearn.tree import DecisionTreeClassifier\n",
        "from sklearn.neural_network import MLPClassifier"
      ],
      "execution_count": 39,
      "outputs": []
    },
    {
      "cell_type": "code",
      "metadata": {
        "id": "Eqt6_mkyjcA6"
      },
      "source": [
        "#Importando o dataset do Github\n",
        "df_train = pd.read_csv('https://raw.githubusercontent.com//doissegundos/Titanic_Machine_Learning_Kaggle/main/dataset/train.csv')\n",
        "df_test = pd.read_csv('https://raw.githubusercontent.com//doissegundos/Titanic_Machine_Learning_Kaggle/main/dataset/test.csv')\n",
        "df_testY = pd.read_csv('https://raw.githubusercontent.com//doissegundos/Titanic_Machine_Learning_Kaggle/main/dataset/gender_submission.csv')"
      ],
      "execution_count": 40,
      "outputs": []
    },
    {
      "cell_type": "code",
      "metadata": {
        "colab": {
          "base_uri": "https://localhost:8080/",
          "height": 203
        },
        "id": "C9kJljmUbHHB",
        "outputId": "bcdb6af2-2496-46c1-9189-4e0b8266cb1d"
      },
      "source": [
        "df_train.sample(5)"
      ],
      "execution_count": 41,
      "outputs": [
        {
          "output_type": "execute_result",
          "data": {
            "text/html": [
              "<div>\n",
              "<style scoped>\n",
              "    .dataframe tbody tr th:only-of-type {\n",
              "        vertical-align: middle;\n",
              "    }\n",
              "\n",
              "    .dataframe tbody tr th {\n",
              "        vertical-align: top;\n",
              "    }\n",
              "\n",
              "    .dataframe thead th {\n",
              "        text-align: right;\n",
              "    }\n",
              "</style>\n",
              "<table border=\"1\" class=\"dataframe\">\n",
              "  <thead>\n",
              "    <tr style=\"text-align: right;\">\n",
              "      <th></th>\n",
              "      <th>PassengerId</th>\n",
              "      <th>Survived</th>\n",
              "      <th>Pclass</th>\n",
              "      <th>Name</th>\n",
              "      <th>Sex</th>\n",
              "      <th>Age</th>\n",
              "      <th>SibSp</th>\n",
              "      <th>Parch</th>\n",
              "      <th>Ticket</th>\n",
              "      <th>Fare</th>\n",
              "      <th>Cabin</th>\n",
              "      <th>Embarked</th>\n",
              "    </tr>\n",
              "  </thead>\n",
              "  <tbody>\n",
              "    <tr>\n",
              "      <th>845</th>\n",
              "      <td>846</td>\n",
              "      <td>0</td>\n",
              "      <td>3</td>\n",
              "      <td>Abbing, Mr. Anthony</td>\n",
              "      <td>male</td>\n",
              "      <td>42.0</td>\n",
              "      <td>0</td>\n",
              "      <td>0</td>\n",
              "      <td>C.A. 5547</td>\n",
              "      <td>7.55</td>\n",
              "      <td>NaN</td>\n",
              "      <td>S</td>\n",
              "    </tr>\n",
              "    <tr>\n",
              "      <th>415</th>\n",
              "      <td>416</td>\n",
              "      <td>0</td>\n",
              "      <td>3</td>\n",
              "      <td>Meek, Mrs. Thomas (Annie Louise Rowley)</td>\n",
              "      <td>female</td>\n",
              "      <td>NaN</td>\n",
              "      <td>0</td>\n",
              "      <td>0</td>\n",
              "      <td>343095</td>\n",
              "      <td>8.05</td>\n",
              "      <td>NaN</td>\n",
              "      <td>S</td>\n",
              "    </tr>\n",
              "    <tr>\n",
              "      <th>334</th>\n",
              "      <td>335</td>\n",
              "      <td>1</td>\n",
              "      <td>1</td>\n",
              "      <td>Frauenthal, Mrs. Henry William (Clara Heinshei...</td>\n",
              "      <td>female</td>\n",
              "      <td>NaN</td>\n",
              "      <td>1</td>\n",
              "      <td>0</td>\n",
              "      <td>PC 17611</td>\n",
              "      <td>133.65</td>\n",
              "      <td>NaN</td>\n",
              "      <td>S</td>\n",
              "    </tr>\n",
              "    <tr>\n",
              "      <th>555</th>\n",
              "      <td>556</td>\n",
              "      <td>0</td>\n",
              "      <td>1</td>\n",
              "      <td>Wright, Mr. George</td>\n",
              "      <td>male</td>\n",
              "      <td>62.0</td>\n",
              "      <td>0</td>\n",
              "      <td>0</td>\n",
              "      <td>113807</td>\n",
              "      <td>26.55</td>\n",
              "      <td>NaN</td>\n",
              "      <td>S</td>\n",
              "    </tr>\n",
              "    <tr>\n",
              "      <th>695</th>\n",
              "      <td>696</td>\n",
              "      <td>0</td>\n",
              "      <td>2</td>\n",
              "      <td>Chapman, Mr. Charles Henry</td>\n",
              "      <td>male</td>\n",
              "      <td>52.0</td>\n",
              "      <td>0</td>\n",
              "      <td>0</td>\n",
              "      <td>248731</td>\n",
              "      <td>13.50</td>\n",
              "      <td>NaN</td>\n",
              "      <td>S</td>\n",
              "    </tr>\n",
              "  </tbody>\n",
              "</table>\n",
              "</div>"
            ],
            "text/plain": [
              "     PassengerId  Survived  Pclass  ...    Fare Cabin  Embarked\n",
              "845          846         0       3  ...    7.55   NaN         S\n",
              "415          416         0       3  ...    8.05   NaN         S\n",
              "334          335         1       1  ...  133.65   NaN         S\n",
              "555          556         0       1  ...   26.55   NaN         S\n",
              "695          696         0       2  ...   13.50   NaN         S\n",
              "\n",
              "[5 rows x 12 columns]"
            ]
          },
          "metadata": {
            "tags": []
          },
          "execution_count": 41
        }
      ]
    },
    {
      "cell_type": "code",
      "metadata": {
        "colab": {
          "base_uri": "https://localhost:8080/",
          "height": 203
        },
        "id": "BsvOBi2scXoO",
        "outputId": "4ce3923a-406e-4ab4-b7b0-31d533f3032c"
      },
      "source": [
        "df_test.sample(5)"
      ],
      "execution_count": 42,
      "outputs": [
        {
          "output_type": "execute_result",
          "data": {
            "text/html": [
              "<div>\n",
              "<style scoped>\n",
              "    .dataframe tbody tr th:only-of-type {\n",
              "        vertical-align: middle;\n",
              "    }\n",
              "\n",
              "    .dataframe tbody tr th {\n",
              "        vertical-align: top;\n",
              "    }\n",
              "\n",
              "    .dataframe thead th {\n",
              "        text-align: right;\n",
              "    }\n",
              "</style>\n",
              "<table border=\"1\" class=\"dataframe\">\n",
              "  <thead>\n",
              "    <tr style=\"text-align: right;\">\n",
              "      <th></th>\n",
              "      <th>PassengerId</th>\n",
              "      <th>Pclass</th>\n",
              "      <th>Name</th>\n",
              "      <th>Sex</th>\n",
              "      <th>Age</th>\n",
              "      <th>SibSp</th>\n",
              "      <th>Parch</th>\n",
              "      <th>Ticket</th>\n",
              "      <th>Fare</th>\n",
              "      <th>Cabin</th>\n",
              "      <th>Embarked</th>\n",
              "    </tr>\n",
              "  </thead>\n",
              "  <tbody>\n",
              "    <tr>\n",
              "      <th>98</th>\n",
              "      <td>990</td>\n",
              "      <td>3</td>\n",
              "      <td>Braf, Miss. Elin Ester Maria</td>\n",
              "      <td>female</td>\n",
              "      <td>20.0</td>\n",
              "      <td>0</td>\n",
              "      <td>0</td>\n",
              "      <td>347471</td>\n",
              "      <td>7.8542</td>\n",
              "      <td>NaN</td>\n",
              "      <td>S</td>\n",
              "    </tr>\n",
              "    <tr>\n",
              "      <th>137</th>\n",
              "      <td>1029</td>\n",
              "      <td>2</td>\n",
              "      <td>Schmidt, Mr. August</td>\n",
              "      <td>male</td>\n",
              "      <td>26.0</td>\n",
              "      <td>0</td>\n",
              "      <td>0</td>\n",
              "      <td>248659</td>\n",
              "      <td>13.0000</td>\n",
              "      <td>NaN</td>\n",
              "      <td>S</td>\n",
              "    </tr>\n",
              "    <tr>\n",
              "      <th>3</th>\n",
              "      <td>895</td>\n",
              "      <td>3</td>\n",
              "      <td>Wirz, Mr. Albert</td>\n",
              "      <td>male</td>\n",
              "      <td>27.0</td>\n",
              "      <td>0</td>\n",
              "      <td>0</td>\n",
              "      <td>315154</td>\n",
              "      <td>8.6625</td>\n",
              "      <td>NaN</td>\n",
              "      <td>S</td>\n",
              "    </tr>\n",
              "    <tr>\n",
              "      <th>376</th>\n",
              "      <td>1268</td>\n",
              "      <td>3</td>\n",
              "      <td>Kink, Miss. Maria</td>\n",
              "      <td>female</td>\n",
              "      <td>22.0</td>\n",
              "      <td>2</td>\n",
              "      <td>0</td>\n",
              "      <td>315152</td>\n",
              "      <td>8.6625</td>\n",
              "      <td>NaN</td>\n",
              "      <td>S</td>\n",
              "    </tr>\n",
              "    <tr>\n",
              "      <th>303</th>\n",
              "      <td>1195</td>\n",
              "      <td>3</td>\n",
              "      <td>Pokrnic, Mr. Tome</td>\n",
              "      <td>male</td>\n",
              "      <td>24.0</td>\n",
              "      <td>0</td>\n",
              "      <td>0</td>\n",
              "      <td>315092</td>\n",
              "      <td>8.6625</td>\n",
              "      <td>NaN</td>\n",
              "      <td>S</td>\n",
              "    </tr>\n",
              "  </tbody>\n",
              "</table>\n",
              "</div>"
            ],
            "text/plain": [
              "     PassengerId  Pclass                          Name  ...     Fare  Cabin  Embarked\n",
              "98           990       3  Braf, Miss. Elin Ester Maria  ...   7.8542    NaN         S\n",
              "137         1029       2           Schmidt, Mr. August  ...  13.0000    NaN         S\n",
              "3            895       3              Wirz, Mr. Albert  ...   8.6625    NaN         S\n",
              "376         1268       3             Kink, Miss. Maria  ...   8.6625    NaN         S\n",
              "303         1195       3             Pokrnic, Mr. Tome  ...   8.6625    NaN         S\n",
              "\n",
              "[5 rows x 11 columns]"
            ]
          },
          "metadata": {
            "tags": []
          },
          "execution_count": 42
        }
      ]
    },
    {
      "cell_type": "code",
      "metadata": {
        "colab": {
          "base_uri": "https://localhost:8080/",
          "height": 203
        },
        "id": "G24lo449clUe",
        "outputId": "d8985fd9-b0d5-4808-941f-92ac8fa970b4"
      },
      "source": [
        "df_testY.sample(5)"
      ],
      "execution_count": 43,
      "outputs": [
        {
          "output_type": "execute_result",
          "data": {
            "text/html": [
              "<div>\n",
              "<style scoped>\n",
              "    .dataframe tbody tr th:only-of-type {\n",
              "        vertical-align: middle;\n",
              "    }\n",
              "\n",
              "    .dataframe tbody tr th {\n",
              "        vertical-align: top;\n",
              "    }\n",
              "\n",
              "    .dataframe thead th {\n",
              "        text-align: right;\n",
              "    }\n",
              "</style>\n",
              "<table border=\"1\" class=\"dataframe\">\n",
              "  <thead>\n",
              "    <tr style=\"text-align: right;\">\n",
              "      <th></th>\n",
              "      <th>PassengerId</th>\n",
              "      <th>Survived</th>\n",
              "    </tr>\n",
              "  </thead>\n",
              "  <tbody>\n",
              "    <tr>\n",
              "      <th>285</th>\n",
              "      <td>1177</td>\n",
              "      <td>0</td>\n",
              "    </tr>\n",
              "    <tr>\n",
              "      <th>233</th>\n",
              "      <td>1125</td>\n",
              "      <td>0</td>\n",
              "    </tr>\n",
              "    <tr>\n",
              "      <th>402</th>\n",
              "      <td>1294</td>\n",
              "      <td>1</td>\n",
              "    </tr>\n",
              "    <tr>\n",
              "      <th>200</th>\n",
              "      <td>1092</td>\n",
              "      <td>1</td>\n",
              "    </tr>\n",
              "    <tr>\n",
              "      <th>392</th>\n",
              "      <td>1284</td>\n",
              "      <td>0</td>\n",
              "    </tr>\n",
              "  </tbody>\n",
              "</table>\n",
              "</div>"
            ],
            "text/plain": [
              "     PassengerId  Survived\n",
              "285         1177         0\n",
              "233         1125         0\n",
              "402         1294         1\n",
              "200         1092         1\n",
              "392         1284         0"
            ]
          },
          "metadata": {
            "tags": []
          },
          "execution_count": 43
        }
      ]
    },
    {
      "cell_type": "markdown",
      "metadata": {
        "id": "TmuN1_o2w1zc"
      },
      "source": [
        "Verificando os dados nulos"
      ]
    },
    {
      "cell_type": "code",
      "metadata": {
        "colab": {
          "base_uri": "https://localhost:8080/"
        },
        "id": "qqbtrJqVw4GW",
        "outputId": "e963bff1-be8f-461f-fb74-983639c8146a"
      },
      "source": [
        "df_train.isnull().sum()"
      ],
      "execution_count": 44,
      "outputs": [
        {
          "output_type": "execute_result",
          "data": {
            "text/plain": [
              "PassengerId      0\n",
              "Survived         0\n",
              "Pclass           0\n",
              "Name             0\n",
              "Sex              0\n",
              "Age            177\n",
              "SibSp            0\n",
              "Parch            0\n",
              "Ticket           0\n",
              "Fare             0\n",
              "Cabin          687\n",
              "Embarked         2\n",
              "dtype: int64"
            ]
          },
          "metadata": {
            "tags": []
          },
          "execution_count": 44
        }
      ]
    },
    {
      "cell_type": "code",
      "metadata": {
        "colab": {
          "base_uri": "https://localhost:8080/",
          "height": 295
        },
        "id": "4DymcPYpxHw7",
        "outputId": "e4f15ca1-faf8-4e5a-86ca-d66f4086f6fa"
      },
      "source": [
        "df_train.describe()"
      ],
      "execution_count": 45,
      "outputs": [
        {
          "output_type": "execute_result",
          "data": {
            "text/html": [
              "<div>\n",
              "<style scoped>\n",
              "    .dataframe tbody tr th:only-of-type {\n",
              "        vertical-align: middle;\n",
              "    }\n",
              "\n",
              "    .dataframe tbody tr th {\n",
              "        vertical-align: top;\n",
              "    }\n",
              "\n",
              "    .dataframe thead th {\n",
              "        text-align: right;\n",
              "    }\n",
              "</style>\n",
              "<table border=\"1\" class=\"dataframe\">\n",
              "  <thead>\n",
              "    <tr style=\"text-align: right;\">\n",
              "      <th></th>\n",
              "      <th>PassengerId</th>\n",
              "      <th>Survived</th>\n",
              "      <th>Pclass</th>\n",
              "      <th>Age</th>\n",
              "      <th>SibSp</th>\n",
              "      <th>Parch</th>\n",
              "      <th>Fare</th>\n",
              "    </tr>\n",
              "  </thead>\n",
              "  <tbody>\n",
              "    <tr>\n",
              "      <th>count</th>\n",
              "      <td>891.000000</td>\n",
              "      <td>891.000000</td>\n",
              "      <td>891.000000</td>\n",
              "      <td>714.000000</td>\n",
              "      <td>891.000000</td>\n",
              "      <td>891.000000</td>\n",
              "      <td>891.000000</td>\n",
              "    </tr>\n",
              "    <tr>\n",
              "      <th>mean</th>\n",
              "      <td>446.000000</td>\n",
              "      <td>0.383838</td>\n",
              "      <td>2.308642</td>\n",
              "      <td>29.699118</td>\n",
              "      <td>0.523008</td>\n",
              "      <td>0.381594</td>\n",
              "      <td>32.204208</td>\n",
              "    </tr>\n",
              "    <tr>\n",
              "      <th>std</th>\n",
              "      <td>257.353842</td>\n",
              "      <td>0.486592</td>\n",
              "      <td>0.836071</td>\n",
              "      <td>14.526497</td>\n",
              "      <td>1.102743</td>\n",
              "      <td>0.806057</td>\n",
              "      <td>49.693429</td>\n",
              "    </tr>\n",
              "    <tr>\n",
              "      <th>min</th>\n",
              "      <td>1.000000</td>\n",
              "      <td>0.000000</td>\n",
              "      <td>1.000000</td>\n",
              "      <td>0.420000</td>\n",
              "      <td>0.000000</td>\n",
              "      <td>0.000000</td>\n",
              "      <td>0.000000</td>\n",
              "    </tr>\n",
              "    <tr>\n",
              "      <th>25%</th>\n",
              "      <td>223.500000</td>\n",
              "      <td>0.000000</td>\n",
              "      <td>2.000000</td>\n",
              "      <td>20.125000</td>\n",
              "      <td>0.000000</td>\n",
              "      <td>0.000000</td>\n",
              "      <td>7.910400</td>\n",
              "    </tr>\n",
              "    <tr>\n",
              "      <th>50%</th>\n",
              "      <td>446.000000</td>\n",
              "      <td>0.000000</td>\n",
              "      <td>3.000000</td>\n",
              "      <td>28.000000</td>\n",
              "      <td>0.000000</td>\n",
              "      <td>0.000000</td>\n",
              "      <td>14.454200</td>\n",
              "    </tr>\n",
              "    <tr>\n",
              "      <th>75%</th>\n",
              "      <td>668.500000</td>\n",
              "      <td>1.000000</td>\n",
              "      <td>3.000000</td>\n",
              "      <td>38.000000</td>\n",
              "      <td>1.000000</td>\n",
              "      <td>0.000000</td>\n",
              "      <td>31.000000</td>\n",
              "    </tr>\n",
              "    <tr>\n",
              "      <th>max</th>\n",
              "      <td>891.000000</td>\n",
              "      <td>1.000000</td>\n",
              "      <td>3.000000</td>\n",
              "      <td>80.000000</td>\n",
              "      <td>8.000000</td>\n",
              "      <td>6.000000</td>\n",
              "      <td>512.329200</td>\n",
              "    </tr>\n",
              "  </tbody>\n",
              "</table>\n",
              "</div>"
            ],
            "text/plain": [
              "       PassengerId    Survived      Pclass  ...       SibSp       Parch        Fare\n",
              "count   891.000000  891.000000  891.000000  ...  891.000000  891.000000  891.000000\n",
              "mean    446.000000    0.383838    2.308642  ...    0.523008    0.381594   32.204208\n",
              "std     257.353842    0.486592    0.836071  ...    1.102743    0.806057   49.693429\n",
              "min       1.000000    0.000000    1.000000  ...    0.000000    0.000000    0.000000\n",
              "25%     223.500000    0.000000    2.000000  ...    0.000000    0.000000    7.910400\n",
              "50%     446.000000    0.000000    3.000000  ...    0.000000    0.000000   14.454200\n",
              "75%     668.500000    1.000000    3.000000  ...    1.000000    0.000000   31.000000\n",
              "max     891.000000    1.000000    3.000000  ...    8.000000    6.000000  512.329200\n",
              "\n",
              "[8 rows x 7 columns]"
            ]
          },
          "metadata": {
            "tags": []
          },
          "execution_count": 45
        }
      ]
    },
    {
      "cell_type": "markdown",
      "metadata": {
        "id": "QjsDLGhFzCAS"
      },
      "source": [
        "Informações sobre o dataset"
      ]
    },
    {
      "cell_type": "code",
      "metadata": {
        "colab": {
          "base_uri": "https://localhost:8080/"
        },
        "id": "rlMVCb3fzEmj",
        "outputId": "49325a6e-0f4e-4c9a-ddc0-98422f808089"
      },
      "source": [
        "df_train.info()"
      ],
      "execution_count": 46,
      "outputs": [
        {
          "output_type": "stream",
          "text": [
            "<class 'pandas.core.frame.DataFrame'>\n",
            "RangeIndex: 891 entries, 0 to 890\n",
            "Data columns (total 12 columns):\n",
            " #   Column       Non-Null Count  Dtype  \n",
            "---  ------       --------------  -----  \n",
            " 0   PassengerId  891 non-null    int64  \n",
            " 1   Survived     891 non-null    int64  \n",
            " 2   Pclass       891 non-null    int64  \n",
            " 3   Name         891 non-null    object \n",
            " 4   Sex          891 non-null    object \n",
            " 5   Age          714 non-null    float64\n",
            " 6   SibSp        891 non-null    int64  \n",
            " 7   Parch        891 non-null    int64  \n",
            " 8   Ticket       891 non-null    object \n",
            " 9   Fare         891 non-null    float64\n",
            " 10  Cabin        204 non-null    object \n",
            " 11  Embarked     889 non-null    object \n",
            "dtypes: float64(2), int64(5), object(5)\n",
            "memory usage: 83.7+ KB\n"
          ],
          "name": "stdout"
        }
      ]
    },
    {
      "cell_type": "markdown",
      "metadata": {
        "id": "dvrBHuA15gXO"
      },
      "source": [
        "#### Age"
      ]
    },
    {
      "cell_type": "markdown",
      "metadata": {
        "id": "omQ0dHUMxWAj"
      },
      "source": [
        "A coluna idade contém muitos valores nulos, com isso vamos substituir os valores nulos pela media da idade."
      ]
    },
    {
      "cell_type": "code",
      "metadata": {
        "colab": {
          "base_uri": "https://localhost:8080/"
        },
        "id": "cPiDygALyO9u",
        "outputId": "db7f8b75-7d0d-4623-b1fe-52ddc1cb194b"
      },
      "source": [
        "#media da idade dos passageiros\n",
        "int(df_train['Age'].mean())"
      ],
      "execution_count": 47,
      "outputs": [
        {
          "output_type": "execute_result",
          "data": {
            "text/plain": [
              "29"
            ]
          },
          "metadata": {
            "tags": []
          },
          "execution_count": 47
        }
      ]
    },
    {
      "cell_type": "code",
      "metadata": {
        "id": "RxlzcPAvxJfW"
      },
      "source": [
        "df_train['Age'] = df_train['Age'].fillna(int(df_train['Age'].mean()))\n",
        "df_test['Age'] = df_test['Age'].fillna(int(df_test['Age'].mean()))"
      ],
      "execution_count": 48,
      "outputs": []
    },
    {
      "cell_type": "markdown",
      "metadata": {
        "id": "7SGXOgzOzGSZ"
      },
      "source": [
        "É importante converter a coluna de idade para o tipo inteiro"
      ]
    },
    {
      "cell_type": "code",
      "metadata": {
        "id": "cjGo-5bKzlIJ"
      },
      "source": [
        "df_train['Age'] = df_train['Age'].astype(int)\n",
        "df_test['Age'] = df_test['Age'].astype(int)"
      ],
      "execution_count": 49,
      "outputs": []
    },
    {
      "cell_type": "code",
      "metadata": {
        "colab": {
          "base_uri": "https://localhost:8080/",
          "height": 382
        },
        "id": "66dkUYJU5Ko6",
        "outputId": "b0a10bec-bc9f-4d52-f701-f1d3980b3320"
      },
      "source": [
        "#Distribuição da idade dos passageiros\n",
        "sns.set_theme(style=\"darkgrid\")\n",
        "sns.displot(data=df_train, x=\"Age\")"
      ],
      "execution_count": 52,
      "outputs": [
        {
          "output_type": "execute_result",
          "data": {
            "text/plain": [
              "<seaborn.axisgrid.FacetGrid at 0x7f6aba8b5310>"
            ]
          },
          "metadata": {
            "tags": []
          },
          "execution_count": 52
        },
        {
          "output_type": "display_data",
          "data": {
            "image/png": "[encoded data removed]",
            "text/plain": [
              "<Figure size 360x360 with 1 Axes>"
            ]
          },
          "metadata": {
            "tags": []
          }
        }
      ]
    },
    {
      "cell_type": "code",
      "metadata": {
        "colab": {
          "base_uri": "https://localhost:8080/"
        },
        "id": "d03EpMkCymHE",
        "outputId": "dbbbecef-e49f-477d-8df9-105f91c1f9b5"
      },
      "source": [
        "df_train.info()"
      ],
      "execution_count": 53,
      "outputs": [
        {
          "output_type": "stream",
          "text": [
            "<class 'pandas.core.frame.DataFrame'>\n",
            "RangeIndex: 891 entries, 0 to 890\n",
            "Data columns (total 12 columns):\n",
            " #   Column       Non-Null Count  Dtype  \n",
            "---  ------       --------------  -----  \n",
            " 0   PassengerId  891 non-null    int64  \n",
            " 1   Survived     891 non-null    int64  \n",
            " 2   Pclass       891 non-null    int64  \n",
            " 3   Name         891 non-null    object \n",
            " 4   Sex          891 non-null    object \n",
            " 5   Age          891 non-null    int64  \n",
            " 6   SibSp        891 non-null    int64  \n",
            " 7   Parch        891 non-null    int64  \n",
            " 8   Ticket       891 non-null    object \n",
            " 9   Fare         891 non-null    float64\n",
            " 10  Cabin        204 non-null    object \n",
            " 11  Embarked     889 non-null    object \n",
            "dtypes: float64(1), int64(6), object(5)\n",
            "memory usage: 83.7+ KB\n"
          ],
          "name": "stdout"
        }
      ]
    },
    {
      "cell_type": "markdown",
      "metadata": {
        "id": "lsIdv47h5jjh"
      },
      "source": [
        "#### Sex"
      ]
    },
    {
      "cell_type": "markdown",
      "metadata": {
        "id": "0X2rCOJWz87h"
      },
      "source": [
        "É importante categorizar o sexo dos passageiros:\n",
        "\n",
        " 0 - Mulher\n",
        "\n",
        " 1 - Homem"
      ]
    },
    {
      "cell_type": "code",
      "metadata": {
        "id": "Y8PQLRqM0KSb"
      },
      "source": [
        "#Para o dataset de treinamento\n",
        "df_train[\"SexC\"] = np.nan\n",
        "df_train.loc[df_train.Sex == 'male', 'SexC'] = 1\n",
        "df_train.loc[df_train.Sex == 'female', 'SexC'] = 0\n",
        "df_train['SexC'] = df_train['SexC'].astype(int)"
      ],
      "execution_count": 54,
      "outputs": []
    },
    {
      "cell_type": "code",
      "metadata": {
        "id": "FjBekzDh0uEa"
      },
      "source": [
        "#Para o dataset de teste\n",
        "df_test[\"SexC\"] = np.nan\n",
        "df_test.loc[df_test.Sex == 'male', 'SexC'] = 1\n",
        "df_test.loc[df_test.Sex == 'female', 'SexC'] = 0\n",
        "df_test['SexC'] = df_test['SexC'].astype(int)"
      ],
      "execution_count": 55,
      "outputs": []
    },
    {
      "cell_type": "code",
      "metadata": {
        "colab": {
          "base_uri": "https://localhost:8080/",
          "height": 388
        },
        "id": "zmyjp4Q447a8",
        "outputId": "33d3c1f1-c601-4171-97f1-24391d3b9b78"
      },
      "source": [
        "plt.figure(figsize=(3, 4))\n",
        "sns.set_theme(style=\"whitegrid\")\n",
        "sns.countplot('Sex',data=df_train,palette=\"pastel\")\n",
        "plt.title('Sexo dos passageiros') \n",
        "plt.show()"
      ],
      "execution_count": 56,
      "outputs": [
        {
          "output_type": "stream",
          "text": [
            "/usr/local/lib/python3.7/dist-packages/seaborn/_decorators.py:43: FutureWarning:\n",
            "\n",
            "Pass the following variable as a keyword arg: x. From version 0.12, the only valid positional argument will be `data`, and passing other arguments without an explicit keyword will result in an error or misinterpretation.\n",
            "\n"
          ],
          "name": "stderr"
        },
        {
          "output_type": "display_data",
          "data": {
            "image/png": "[encoded data removed]",
            "text/plain": [
              "<Figure size 216x288 with 1 Axes>"
            ]
          },
          "metadata": {
            "tags": []
          }
        }
      ]
    },
    {
      "cell_type": "code",
      "metadata": {
        "colab": {
          "base_uri": "https://localhost:8080/"
        },
        "id": "2PqyrJUt1nwd",
        "outputId": "eb1f239e-d734-4fce-ee96-ac54885da886"
      },
      "source": [
        "df_test.info()"
      ],
      "execution_count": 57,
      "outputs": [
        {
          "output_type": "stream",
          "text": [
            "<class 'pandas.core.frame.DataFrame'>\n",
            "RangeIndex: 418 entries, 0 to 417\n",
            "Data columns (total 12 columns):\n",
            " #   Column       Non-Null Count  Dtype  \n",
            "---  ------       --------------  -----  \n",
            " 0   PassengerId  418 non-null    int64  \n",
            " 1   Pclass       418 non-null    int64  \n",
            " 2   Name         418 non-null    object \n",
            " 3   Sex          418 non-null    object \n",
            " 4   Age          418 non-null    int64  \n",
            " 5   SibSp        418 non-null    int64  \n",
            " 6   Parch        418 non-null    int64  \n",
            " 7   Ticket       418 non-null    object \n",
            " 8   Fare         417 non-null    float64\n",
            " 9   Cabin        91 non-null     object \n",
            " 10  Embarked     418 non-null    object \n",
            " 11  SexC         418 non-null    int64  \n",
            "dtypes: float64(1), int64(6), object(5)\n",
            "memory usage: 39.3+ KB\n"
          ],
          "name": "stdout"
        }
      ]
    },
    {
      "cell_type": "code",
      "metadata": {
        "colab": {
          "base_uri": "https://localhost:8080/",
          "height": 295
        },
        "id": "VFfwoPx83hrJ",
        "outputId": "61e6b8cb-5dc6-4daa-d01c-bbcdb6e6d90f"
      },
      "source": [
        "df_train.sample(8)"
      ],
      "execution_count": 58,
      "outputs": [
        {
          "output_type": "execute_result",
          "data": {
            "text/html": [
              "<div>\n",
              "<style scoped>\n",
              "    .dataframe tbody tr th:only-of-type {\n",
              "        vertical-align: middle;\n",
              "    }\n",
              "\n",
              "    .dataframe tbody tr th {\n",
              "        vertical-align: top;\n",
              "    }\n",
              "\n",
              "    .dataframe thead th {\n",
              "        text-align: right;\n",
              "    }\n",
              "</style>\n",
              "<table border=\"1\" class=\"dataframe\">\n",
              "  <thead>\n",
              "    <tr style=\"text-align: right;\">\n",
              "      <th></th>\n",
              "      <th>PassengerId</th>\n",
              "      <th>Survived</th>\n",
              "      <th>Pclass</th>\n",
              "      <th>Name</th>\n",
              "      <th>Sex</th>\n",
              "      <th>Age</th>\n",
              "      <th>SibSp</th>\n",
              "      <th>Parch</th>\n",
              "      <th>Ticket</th>\n",
              "      <th>Fare</th>\n",
              "      <th>Cabin</th>\n",
              "      <th>Embarked</th>\n",
              "      <th>SexC</th>\n",
              "    </tr>\n",
              "  </thead>\n",
              "  <tbody>\n",
              "    <tr>\n",
              "      <th>609</th>\n",
              "      <td>610</td>\n",
              "      <td>1</td>\n",
              "      <td>1</td>\n",
              "      <td>Shutes, Miss. Elizabeth W</td>\n",
              "      <td>female</td>\n",
              "      <td>40</td>\n",
              "      <td>0</td>\n",
              "      <td>0</td>\n",
              "      <td>PC 17582</td>\n",
              "      <td>153.4625</td>\n",
              "      <td>C125</td>\n",
              "      <td>S</td>\n",
              "      <td>0</td>\n",
              "    </tr>\n",
              "    <tr>\n",
              "      <th>720</th>\n",
              "      <td>721</td>\n",
              "      <td>1</td>\n",
              "      <td>2</td>\n",
              "      <td>Harper, Miss. Annie Jessie \"Nina\"</td>\n",
              "      <td>female</td>\n",
              "      <td>6</td>\n",
              "      <td>0</td>\n",
              "      <td>1</td>\n",
              "      <td>248727</td>\n",
              "      <td>33.0000</td>\n",
              "      <td>NaN</td>\n",
              "      <td>S</td>\n",
              "      <td>0</td>\n",
              "    </tr>\n",
              "    <tr>\n",
              "      <th>495</th>\n",
              "      <td>496</td>\n",
              "      <td>0</td>\n",
              "      <td>3</td>\n",
              "      <td>Yousseff, Mr. Gerious</td>\n",
              "      <td>male</td>\n",
              "      <td>29</td>\n",
              "      <td>0</td>\n",
              "      <td>0</td>\n",
              "      <td>2627</td>\n",
              "      <td>14.4583</td>\n",
              "      <td>NaN</td>\n",
              "      <td>C</td>\n",
              "      <td>1</td>\n",
              "    </tr>\n",
              "    <tr>\n",
              "      <th>333</th>\n",
              "      <td>334</td>\n",
              "      <td>0</td>\n",
              "      <td>3</td>\n",
              "      <td>Vander Planke, Mr. Leo Edmondus</td>\n",
              "      <td>male</td>\n",
              "      <td>16</td>\n",
              "      <td>2</td>\n",
              "      <td>0</td>\n",
              "      <td>345764</td>\n",
              "      <td>18.0000</td>\n",
              "      <td>NaN</td>\n",
              "      <td>S</td>\n",
              "      <td>1</td>\n",
              "    </tr>\n",
              "    <tr>\n",
              "      <th>472</th>\n",
              "      <td>473</td>\n",
              "      <td>1</td>\n",
              "      <td>2</td>\n",
              "      <td>West, Mrs. Edwy Arthur (Ada Mary Worth)</td>\n",
              "      <td>female</td>\n",
              "      <td>33</td>\n",
              "      <td>1</td>\n",
              "      <td>2</td>\n",
              "      <td>C.A. 34651</td>\n",
              "      <td>27.7500</td>\n",
              "      <td>NaN</td>\n",
              "      <td>S</td>\n",
              "      <td>0</td>\n",
              "    </tr>\n",
              "    <tr>\n",
              "      <th>866</th>\n",
              "      <td>867</td>\n",
              "      <td>1</td>\n",
              "      <td>2</td>\n",
              "      <td>Duran y More, Miss. Asuncion</td>\n",
              "      <td>female</td>\n",
              "      <td>27</td>\n",
              "      <td>1</td>\n",
              "      <td>0</td>\n",
              "      <td>SC/PARIS 2149</td>\n",
              "      <td>13.8583</td>\n",
              "      <td>NaN</td>\n",
              "      <td>C</td>\n",
              "      <td>0</td>\n",
              "    </tr>\n",
              "    <tr>\n",
              "      <th>404</th>\n",
              "      <td>405</td>\n",
              "      <td>0</td>\n",
              "      <td>3</td>\n",
              "      <td>Oreskovic, Miss. Marija</td>\n",
              "      <td>female</td>\n",
              "      <td>20</td>\n",
              "      <td>0</td>\n",
              "      <td>0</td>\n",
              "      <td>315096</td>\n",
              "      <td>8.6625</td>\n",
              "      <td>NaN</td>\n",
              "      <td>S</td>\n",
              "      <td>0</td>\n",
              "    </tr>\n",
              "    <tr>\n",
              "      <th>232</th>\n",
              "      <td>233</td>\n",
              "      <td>0</td>\n",
              "      <td>2</td>\n",
              "      <td>Sjostedt, Mr. Ernst Adolf</td>\n",
              "      <td>male</td>\n",
              "      <td>59</td>\n",
              "      <td>0</td>\n",
              "      <td>0</td>\n",
              "      <td>237442</td>\n",
              "      <td>13.5000</td>\n",
              "      <td>NaN</td>\n",
              "      <td>S</td>\n",
              "      <td>1</td>\n",
              "    </tr>\n",
              "  </tbody>\n",
              "</table>\n",
              "</div>"
            ],
            "text/plain": [
              "     PassengerId  Survived  Pclass  ... Cabin Embarked  SexC\n",
              "609          610         1       1  ...  C125        S     0\n",
              "720          721         1       2  ...   NaN        S     0\n",
              "495          496         0       3  ...   NaN        C     1\n",
              "333          334         0       3  ...   NaN        S     1\n",
              "472          473         1       2  ...   NaN        S     0\n",
              "866          867         1       2  ...   NaN        C     0\n",
              "404          405         0       3  ...   NaN        S     0\n",
              "232          233         0       2  ...   NaN        S     1\n",
              "\n",
              "[8 rows x 13 columns]"
            ]
          },
          "metadata": {
            "tags": []
          },
          "execution_count": 58
        }
      ]
    },
    {
      "cell_type": "markdown",
      "metadata": {
        "id": "f56XmfCE5myM"
      },
      "source": [
        "#### Embarked"
      ]
    },
    {
      "cell_type": "markdown",
      "metadata": {
        "id": "zy3s8M666Y3x"
      },
      "source": [
        "A coluna Embarked contém 3 itens, que serão substituidos por valores numericos e inteiros.\n",
        "\n",
        "0 - C\n",
        "\n",
        "1 - Q\n",
        "\n",
        "2 - s"
      ]
    },
    {
      "cell_type": "code",
      "metadata": {
        "colab": {
          "base_uri": "https://localhost:8080/",
          "height": 172
        },
        "id": "nl84josC6hQM",
        "outputId": "e034b144-fdd3-4394-d400-1b11c58bcdd4"
      },
      "source": [
        "df_train.groupby(['Embarked']).count()"
      ],
      "execution_count": 71,
      "outputs": [
        {
          "output_type": "execute_result",
          "data": {
            "text/html": [
              "<div>\n",
              "<style scoped>\n",
              "    .dataframe tbody tr th:only-of-type {\n",
              "        vertical-align: middle;\n",
              "    }\n",
              "\n",
              "    .dataframe tbody tr th {\n",
              "        vertical-align: top;\n",
              "    }\n",
              "\n",
              "    .dataframe thead th {\n",
              "        text-align: right;\n",
              "    }\n",
              "</style>\n",
              "<table border=\"1\" class=\"dataframe\">\n",
              "  <thead>\n",
              "    <tr style=\"text-align: right;\">\n",
              "      <th></th>\n",
              "      <th>PassengerId</th>\n",
              "      <th>Survived</th>\n",
              "      <th>Pclass</th>\n",
              "      <th>Name</th>\n",
              "      <th>Sex</th>\n",
              "      <th>Age</th>\n",
              "      <th>SibSp</th>\n",
              "      <th>Parch</th>\n",
              "      <th>Ticket</th>\n",
              "      <th>Fare</th>\n",
              "      <th>Cabin</th>\n",
              "      <th>SexC</th>\n",
              "      <th>EmbarkedC</th>\n",
              "    </tr>\n",
              "    <tr>\n",
              "      <th>Embarked</th>\n",
              "      <th></th>\n",
              "      <th></th>\n",
              "      <th></th>\n",
              "      <th></th>\n",
              "      <th></th>\n",
              "      <th></th>\n",
              "      <th></th>\n",
              "      <th></th>\n",
              "      <th></th>\n",
              "      <th></th>\n",
              "      <th></th>\n",
              "      <th></th>\n",
              "      <th></th>\n",
              "    </tr>\n",
              "  </thead>\n",
              "  <tbody>\n",
              "    <tr>\n",
              "      <th>C</th>\n",
              "      <td>168</td>\n",
              "      <td>168</td>\n",
              "      <td>168</td>\n",
              "      <td>168</td>\n",
              "      <td>168</td>\n",
              "      <td>168</td>\n",
              "      <td>168</td>\n",
              "      <td>168</td>\n",
              "      <td>168</td>\n",
              "      <td>168</td>\n",
              "      <td>69</td>\n",
              "      <td>168</td>\n",
              "      <td>168</td>\n",
              "    </tr>\n",
              "    <tr>\n",
              "      <th>Q</th>\n",
              "      <td>77</td>\n",
              "      <td>77</td>\n",
              "      <td>77</td>\n",
              "      <td>77</td>\n",
              "      <td>77</td>\n",
              "      <td>77</td>\n",
              "      <td>77</td>\n",
              "      <td>77</td>\n",
              "      <td>77</td>\n",
              "      <td>77</td>\n",
              "      <td>4</td>\n",
              "      <td>77</td>\n",
              "      <td>0</td>\n",
              "    </tr>\n",
              "    <tr>\n",
              "      <th>S</th>\n",
              "      <td>646</td>\n",
              "      <td>646</td>\n",
              "      <td>646</td>\n",
              "      <td>646</td>\n",
              "      <td>646</td>\n",
              "      <td>646</td>\n",
              "      <td>646</td>\n",
              "      <td>646</td>\n",
              "      <td>646</td>\n",
              "      <td>646</td>\n",
              "      <td>131</td>\n",
              "      <td>646</td>\n",
              "      <td>646</td>\n",
              "    </tr>\n",
              "  </tbody>\n",
              "</table>\n",
              "</div>"
            ],
            "text/plain": [
              "          PassengerId  Survived  Pclass  Name  ...  Fare  Cabin  SexC  EmbarkedC\n",
              "Embarked                                       ...                              \n",
              "C                 168       168     168   168  ...   168     69   168        168\n",
              "Q                  77        77      77    77  ...    77      4    77          0\n",
              "S                 646       646     646   646  ...   646    131   646        646\n",
              "\n",
              "[3 rows x 13 columns]"
            ]
          },
          "metadata": {
            "tags": []
          },
          "execution_count": 71
        }
      ]
    },
    {
      "cell_type": "code",
      "metadata": {
        "colab": {
          "base_uri": "https://localhost:8080/",
          "height": 172
        },
        "id": "zZalBgXN8Qt5",
        "outputId": "e41fa1b1-f22a-48be-8560-16d79ece7190"
      },
      "source": [
        "df_test.groupby(['Embarked']).count()"
      ],
      "execution_count": 72,
      "outputs": [
        {
          "output_type": "execute_result",
          "data": {
            "text/html": [
              "<div>\n",
              "<style scoped>\n",
              "    .dataframe tbody tr th:only-of-type {\n",
              "        vertical-align: middle;\n",
              "    }\n",
              "\n",
              "    .dataframe tbody tr th {\n",
              "        vertical-align: top;\n",
              "    }\n",
              "\n",
              "    .dataframe thead th {\n",
              "        text-align: right;\n",
              "    }\n",
              "</style>\n",
              "<table border=\"1\" class=\"dataframe\">\n",
              "  <thead>\n",
              "    <tr style=\"text-align: right;\">\n",
              "      <th></th>\n",
              "      <th>PassengerId</th>\n",
              "      <th>Pclass</th>\n",
              "      <th>Name</th>\n",
              "      <th>Sex</th>\n",
              "      <th>Age</th>\n",
              "      <th>SibSp</th>\n",
              "      <th>Parch</th>\n",
              "      <th>Ticket</th>\n",
              "      <th>Fare</th>\n",
              "      <th>Cabin</th>\n",
              "      <th>SexC</th>\n",
              "    </tr>\n",
              "    <tr>\n",
              "      <th>Embarked</th>\n",
              "      <th></th>\n",
              "      <th></th>\n",
              "      <th></th>\n",
              "      <th></th>\n",
              "      <th></th>\n",
              "      <th></th>\n",
              "      <th></th>\n",
              "      <th></th>\n",
              "      <th></th>\n",
              "      <th></th>\n",
              "      <th></th>\n",
              "    </tr>\n",
              "  </thead>\n",
              "  <tbody>\n",
              "    <tr>\n",
              "      <th>C</th>\n",
              "      <td>102</td>\n",
              "      <td>102</td>\n",
              "      <td>102</td>\n",
              "      <td>102</td>\n",
              "      <td>102</td>\n",
              "      <td>102</td>\n",
              "      <td>102</td>\n",
              "      <td>102</td>\n",
              "      <td>102</td>\n",
              "      <td>49</td>\n",
              "      <td>102</td>\n",
              "    </tr>\n",
              "    <tr>\n",
              "      <th>Q</th>\n",
              "      <td>46</td>\n",
              "      <td>46</td>\n",
              "      <td>46</td>\n",
              "      <td>46</td>\n",
              "      <td>46</td>\n",
              "      <td>46</td>\n",
              "      <td>46</td>\n",
              "      <td>46</td>\n",
              "      <td>46</td>\n",
              "      <td>1</td>\n",
              "      <td>46</td>\n",
              "    </tr>\n",
              "    <tr>\n",
              "      <th>S</th>\n",
              "      <td>270</td>\n",
              "      <td>270</td>\n",
              "      <td>270</td>\n",
              "      <td>270</td>\n",
              "      <td>270</td>\n",
              "      <td>270</td>\n",
              "      <td>270</td>\n",
              "      <td>270</td>\n",
              "      <td>269</td>\n",
              "      <td>41</td>\n",
              "      <td>270</td>\n",
              "    </tr>\n",
              "  </tbody>\n",
              "</table>\n",
              "</div>"
            ],
            "text/plain": [
              "          PassengerId  Pclass  Name  Sex  Age  ...  Parch  Ticket  Fare  Cabin  SexC\n",
              "Embarked                                       ...                                  \n",
              "C                 102     102   102  102  102  ...    102     102   102     49   102\n",
              "Q                  46      46    46   46   46  ...     46      46    46      1    46\n",
              "S                 270     270   270  270  270  ...    270     270   269     41   270\n",
              "\n",
              "[3 rows x 11 columns]"
            ]
          },
          "metadata": {
            "tags": []
          },
          "execution_count": 72
        }
      ]
    },
    {
      "cell_type": "markdown",
      "metadata": {
        "id": "EwNjMnCU8DT3"
      },
      "source": [
        "Substituir valores nulos pelo que mais se repede dentro do dataset"
      ]
    },
    {
      "cell_type": "code",
      "metadata": {
        "id": "L1Fyf5U87uvZ"
      },
      "source": [
        "df_train['Embarked'] = df_train['Embarked'].fillna(\"S\")\n",
        "df_test['Embarked'] = df_test['Embarked'].fillna(\"S\")"
      ],
      "execution_count": 73,
      "outputs": []
    },
    {
      "cell_type": "code",
      "metadata": {
        "id": "o-NibwUS375i"
      },
      "source": [
        "#Para o dataset de treinamento\n",
        "df_train[\"EmbarkedC\"] = np.nan\n",
        "df_train.loc[df_train.Embarked == 'C', 'EmbarkedC'] = 0\n",
        "df_train.loc[df_train.Embarked == 'Q', 'EmbarkedC'] = 1\n",
        "df_train.loc[df_train.Embarked == 'S', 'EmbarkedC'] = 2\n",
        "df_train['EmbarkedC'] = df_train['EmbarkedC'].astype(int)"
      ],
      "execution_count": 76,
      "outputs": []
    },
    {
      "cell_type": "code",
      "metadata": {
        "id": "TerxGtj-58sq"
      },
      "source": [
        "#Para o dataset de teste\n",
        "df_test[\"EmbarkedC\"] = np.nan\n",
        "df_test.loc[df_test.Embarked == 'C', 'EmbarkedC'] = 0\n",
        "df_test.loc[df_test.Embarked == 'Q', 'EmbarkedC'] = 1\n",
        "df_test.loc[df_test.Embarked == 'S', 'EmbarkedC'] = 2\n",
        "df_test['EmbarkedC'] = df_test['EmbarkedC'].astype(int)"
      ],
      "execution_count": 77,
      "outputs": []
    },
    {
      "cell_type": "code",
      "metadata": {
        "colab": {
          "base_uri": "https://localhost:8080/",
          "height": 388
        },
        "id": "89YDO1YH91lf",
        "outputId": "511ab4a4-21be-40ab-d8b7-1c8ea7da1a5c"
      },
      "source": [
        "plt.figure(figsize=(3, 4))\n",
        "sns.set_theme(style=\"whitegrid\")\n",
        "sns.countplot('Embarked',data=df_train,palette=\"pastel\")\n",
        "plt.title('Embarked') \n",
        "plt.show()"
      ],
      "execution_count": 79,
      "outputs": [
        {
          "output_type": "stream",
          "text": [
            "/usr/local/lib/python3.7/dist-packages/seaborn/_decorators.py:43: FutureWarning:\n",
            "\n",
            "Pass the following variable as a keyword arg: x. From version 0.12, the only valid positional argument will be `data`, and passing other arguments without an explicit keyword will result in an error or misinterpretation.\n",
            "\n"
          ],
          "name": "stderr"
        },
        {
          "output_type": "display_data",
          "data": {
            "image/png": "[encoded data removed]",
            "text/plain": [
              "<Figure size 216x288 with 1 Axes>"
            ]
          },
          "metadata": {
            "tags": []
          }
        }
      ]
    },
    {
      "cell_type": "code",
      "metadata": {
        "colab": {
          "base_uri": "https://localhost:8080/",
          "height": 418
        },
        "id": "b-46fNYr-LR2",
        "outputId": "1ef1b2a3-5be0-41bb-91f2-d235e18d575c"
      },
      "source": [
        "df_train.sample(12)"
      ],
      "execution_count": 80,
      "outputs": [
        {
          "output_type": "execute_result",
          "data": {
            "text/html": [
              "<div>\n",
              "<style scoped>\n",
              "    .dataframe tbody tr th:only-of-type {\n",
              "        vertical-align: middle;\n",
              "    }\n",
              "\n",
              "    .dataframe tbody tr th {\n",
              "        vertical-align: top;\n",
              "    }\n",
              "\n",
              "    .dataframe thead th {\n",
              "        text-align: right;\n",
              "    }\n",
              "</style>\n",
              "<table border=\"1\" class=\"dataframe\">\n",
              "  <thead>\n",
              "    <tr style=\"text-align: right;\">\n",
              "      <th></th>\n",
              "      <th>PassengerId</th>\n",
              "      <th>Survived</th>\n",
              "      <th>Pclass</th>\n",
              "      <th>Name</th>\n",
              "      <th>Sex</th>\n",
              "      <th>Age</th>\n",
              "      <th>SibSp</th>\n",
              "      <th>Parch</th>\n",
              "      <th>Ticket</th>\n",
              "      <th>Fare</th>\n",
              "      <th>Cabin</th>\n",
              "      <th>Embarked</th>\n",
              "      <th>SexC</th>\n",
              "      <th>EmbarkedC</th>\n",
              "    </tr>\n",
              "  </thead>\n",
              "  <tbody>\n",
              "    <tr>\n",
              "      <th>40</th>\n",
              "      <td>41</td>\n",
              "      <td>0</td>\n",
              "      <td>3</td>\n",
              "      <td>Ahlin, Mrs. Johan (Johanna Persdotter Larsson)</td>\n",
              "      <td>female</td>\n",
              "      <td>40</td>\n",
              "      <td>1</td>\n",
              "      <td>0</td>\n",
              "      <td>7546</td>\n",
              "      <td>9.4750</td>\n",
              "      <td>NaN</td>\n",
              "      <td>S</td>\n",
              "      <td>0</td>\n",
              "      <td>2</td>\n",
              "    </tr>\n",
              "    <tr>\n",
              "      <th>530</th>\n",
              "      <td>531</td>\n",
              "      <td>1</td>\n",
              "      <td>2</td>\n",
              "      <td>Quick, Miss. Phyllis May</td>\n",
              "      <td>female</td>\n",
              "      <td>2</td>\n",
              "      <td>1</td>\n",
              "      <td>1</td>\n",
              "      <td>26360</td>\n",
              "      <td>26.0000</td>\n",
              "      <td>NaN</td>\n",
              "      <td>S</td>\n",
              "      <td>0</td>\n",
              "      <td>2</td>\n",
              "    </tr>\n",
              "    <tr>\n",
              "      <th>566</th>\n",
              "      <td>567</td>\n",
              "      <td>0</td>\n",
              "      <td>3</td>\n",
              "      <td>Stoytcheff, Mr. Ilia</td>\n",
              "      <td>male</td>\n",
              "      <td>19</td>\n",
              "      <td>0</td>\n",
              "      <td>0</td>\n",
              "      <td>349205</td>\n",
              "      <td>7.8958</td>\n",
              "      <td>NaN</td>\n",
              "      <td>S</td>\n",
              "      <td>1</td>\n",
              "      <td>2</td>\n",
              "    </tr>\n",
              "    <tr>\n",
              "      <th>535</th>\n",
              "      <td>536</td>\n",
              "      <td>1</td>\n",
              "      <td>2</td>\n",
              "      <td>Hart, Miss. Eva Miriam</td>\n",
              "      <td>female</td>\n",
              "      <td>7</td>\n",
              "      <td>0</td>\n",
              "      <td>2</td>\n",
              "      <td>F.C.C. 13529</td>\n",
              "      <td>26.2500</td>\n",
              "      <td>NaN</td>\n",
              "      <td>S</td>\n",
              "      <td>0</td>\n",
              "      <td>2</td>\n",
              "    </tr>\n",
              "    <tr>\n",
              "      <th>236</th>\n",
              "      <td>237</td>\n",
              "      <td>0</td>\n",
              "      <td>2</td>\n",
              "      <td>Hold, Mr. Stephen</td>\n",
              "      <td>male</td>\n",
              "      <td>44</td>\n",
              "      <td>1</td>\n",
              "      <td>0</td>\n",
              "      <td>26707</td>\n",
              "      <td>26.0000</td>\n",
              "      <td>NaN</td>\n",
              "      <td>S</td>\n",
              "      <td>1</td>\n",
              "      <td>2</td>\n",
              "    </tr>\n",
              "    <tr>\n",
              "      <th>239</th>\n",
              "      <td>240</td>\n",
              "      <td>0</td>\n",
              "      <td>2</td>\n",
              "      <td>Hunt, Mr. George Henry</td>\n",
              "      <td>male</td>\n",
              "      <td>33</td>\n",
              "      <td>0</td>\n",
              "      <td>0</td>\n",
              "      <td>SCO/W 1585</td>\n",
              "      <td>12.2750</td>\n",
              "      <td>NaN</td>\n",
              "      <td>S</td>\n",
              "      <td>1</td>\n",
              "      <td>2</td>\n",
              "    </tr>\n",
              "    <tr>\n",
              "      <th>797</th>\n",
              "      <td>798</td>\n",
              "      <td>1</td>\n",
              "      <td>3</td>\n",
              "      <td>Osman, Mrs. Mara</td>\n",
              "      <td>female</td>\n",
              "      <td>31</td>\n",
              "      <td>0</td>\n",
              "      <td>0</td>\n",
              "      <td>349244</td>\n",
              "      <td>8.6833</td>\n",
              "      <td>NaN</td>\n",
              "      <td>S</td>\n",
              "      <td>0</td>\n",
              "      <td>2</td>\n",
              "    </tr>\n",
              "    <tr>\n",
              "      <th>623</th>\n",
              "      <td>624</td>\n",
              "      <td>0</td>\n",
              "      <td>3</td>\n",
              "      <td>Hansen, Mr. Henry Damsgaard</td>\n",
              "      <td>male</td>\n",
              "      <td>21</td>\n",
              "      <td>0</td>\n",
              "      <td>0</td>\n",
              "      <td>350029</td>\n",
              "      <td>7.8542</td>\n",
              "      <td>NaN</td>\n",
              "      <td>S</td>\n",
              "      <td>1</td>\n",
              "      <td>2</td>\n",
              "    </tr>\n",
              "    <tr>\n",
              "      <th>176</th>\n",
              "      <td>177</td>\n",
              "      <td>0</td>\n",
              "      <td>3</td>\n",
              "      <td>Lefebre, Master. Henry Forbes</td>\n",
              "      <td>male</td>\n",
              "      <td>29</td>\n",
              "      <td>3</td>\n",
              "      <td>1</td>\n",
              "      <td>4133</td>\n",
              "      <td>25.4667</td>\n",
              "      <td>NaN</td>\n",
              "      <td>S</td>\n",
              "      <td>1</td>\n",
              "      <td>2</td>\n",
              "    </tr>\n",
              "    <tr>\n",
              "      <th>104</th>\n",
              "      <td>105</td>\n",
              "      <td>0</td>\n",
              "      <td>3</td>\n",
              "      <td>Gustafsson, Mr. Anders Vilhelm</td>\n",
              "      <td>male</td>\n",
              "      <td>37</td>\n",
              "      <td>2</td>\n",
              "      <td>0</td>\n",
              "      <td>3101276</td>\n",
              "      <td>7.9250</td>\n",
              "      <td>NaN</td>\n",
              "      <td>S</td>\n",
              "      <td>1</td>\n",
              "      <td>2</td>\n",
              "    </tr>\n",
              "    <tr>\n",
              "      <th>656</th>\n",
              "      <td>657</td>\n",
              "      <td>0</td>\n",
              "      <td>3</td>\n",
              "      <td>Radeff, Mr. Alexander</td>\n",
              "      <td>male</td>\n",
              "      <td>29</td>\n",
              "      <td>0</td>\n",
              "      <td>0</td>\n",
              "      <td>349223</td>\n",
              "      <td>7.8958</td>\n",
              "      <td>NaN</td>\n",
              "      <td>S</td>\n",
              "      <td>1</td>\n",
              "      <td>2</td>\n",
              "    </tr>\n",
              "    <tr>\n",
              "      <th>49</th>\n",
              "      <td>50</td>\n",
              "      <td>0</td>\n",
              "      <td>3</td>\n",
              "      <td>Arnold-Franchi, Mrs. Josef (Josefine Franchi)</td>\n",
              "      <td>female</td>\n",
              "      <td>18</td>\n",
              "      <td>1</td>\n",
              "      <td>0</td>\n",
              "      <td>349237</td>\n",
              "      <td>17.8000</td>\n",
              "      <td>NaN</td>\n",
              "      <td>S</td>\n",
              "      <td>0</td>\n",
              "      <td>2</td>\n",
              "    </tr>\n",
              "  </tbody>\n",
              "</table>\n",
              "</div>"
            ],
            "text/plain": [
              "     PassengerId  Survived  Pclass  ... Embarked SexC  EmbarkedC\n",
              "40            41         0       3  ...        S    0          2\n",
              "530          531         1       2  ...        S    0          2\n",
              "566          567         0       3  ...        S    1          2\n",
              "535          536         1       2  ...        S    0          2\n",
              "236          237         0       2  ...        S    1          2\n",
              "239          240         0       2  ...        S    1          2\n",
              "797          798         1       3  ...        S    0          2\n",
              "623          624         0       3  ...        S    1          2\n",
              "176          177         0       3  ...        S    1          2\n",
              "104          105         0       3  ...        S    1          2\n",
              "656          657         0       3  ...        S    1          2\n",
              "49            50         0       3  ...        S    0          2\n",
              "\n",
              "[12 rows x 14 columns]"
            ]
          },
          "metadata": {
            "tags": []
          },
          "execution_count": 80
        }
      ]
    },
    {
      "cell_type": "markdown",
      "metadata": {
        "id": "fvEHjMZ6-bii"
      },
      "source": [
        "#### Age"
      ]
    },
    {
      "cell_type": "code",
      "metadata": {
        "id": "ECTwpcU2-dWc"
      },
      "source": [
        ""
      ],
      "execution_count": null,
      "outputs": []
    }
  ]
}